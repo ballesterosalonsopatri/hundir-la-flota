{
 "cells": [
  {
   "cell_type": "markdown",
   "metadata": {},
   "source": [
    "![imagen](./img/hundir-la-flota-juego-de-mesa.jpg)"
   ]
  },
  {
   "cell_type": "markdown",
   "metadata": {},
   "source": [
    "En esta entrega vas a crear tu propio juego de **Hundir la flota** en Python. \n",
    "[Aquí](http://es.battleship-game.org/) podrás probarlo online."
   ]
  },
  {
   "attachments": {},
   "cell_type": "markdown",
   "metadata": {},
   "source": [
    "### En clase\n",
    "1. Crea la función `crear_tablero(tamaño)`, un tablero por defecto de 10x10 relleno del carácter \"_\" con numpy.\n",
    "2. Crea la función `colocar_barco(barco, tablero)`, que recibirá la lista de casillas de un barco y el tablero donde colocarlo. Prueba primero a posicionar un par de barcos por ejemplo en [(0,1), (1,1)] y [(1,3), (1,4), (1,5), (1,6)]. Los barcos serán Os mayúsculas. Como ves, un barco de dos posiciones de eslora y otro de cuatro.\n",
    "3. Crea la función `disparar(casilla, tablero)`, si el disparo acierta en un barco sustituye la O por una X (tocado), si es agua, sustituye la _ por una A (Agua). Prueba primero a disparar el barco de 2 casillas.\n",
    "4. Crea la función `crear_barco(eslora)`, que deberá crear una lista de casillas de un barco en función a la eslora, de forma aleatoria.\n",
    "\n",
    "### Proyecto individual\n",
    "5. Crea la función `colocar_barcos(tablero)`, que deberá de colocar la lista de barcos generados de forma aleatoria (6 barcos en total (3 barcos de eslora 2, 2 de eslora 3 y 1 eslora 4)) ¡Mucho ojo con barcos que estén superpuestos (no pueden ocupar dos barcos la misma casilla) o barcos que se salgan del tablero!\n",
    "6. Escribe el flujo completo del programa, con la dinámica de turnos y funcionalidades necesarios para jugar contra la máquina (dispara a tu tablero de forma aleatoria). Crea todas las funciones que necesites y aplica todo lo aprendido que te sea útil.\n",
    "7. Encapsula todo en un `main.py` y un `utils.py` para ejecutarlo desde terminal.\n",
    "8. Sube tu proyecto a un repositorio de github y prepara una demo (solo se podrá enseñar desde terminal) para la presentación de tu proyecto."
   ]
  },
  {
   "cell_type": "markdown",
   "metadata": {},
   "source": [
    "## Presentación\n",
    "Cada uno realizará una presentación el **viernes 24 de Octubre**, donde se contarán con **10 minutos máximo**, importante ceñirse al tiempo. Se tendrá que enseñar:\n",
    "1. El git clone del repositorio de github a tu ordenador y explicar las partes más relevantes del código.\n",
    "2. Una demo donde se muestre el correcto funcionamiento del código para jugar, ejecutándose desde terminal"
   ]
  },
  {
   "cell_type": "code",
   "execution_count": null,
   "metadata": {},
   "outputs": [
    {
     "name": "stdout",
     "output_type": "stream",
     "text": [
      "Tablero barcos Jugador\n",
      "[[' ' ' ' ' ' ' ' ' ' ' ' ' ' ' ' ' ' ' ']\n",
      " [' ' ' ' ' ' ' ' ' ' ' ' ' ' ' ' ' ' ' ']\n",
      " [' ' ' ' ' ' ' ' ' ' ' ' ' ' ' ' ' ' ' ']\n",
      " [' ' ' ' ' ' ' ' ' ' ' ' ' ' ' ' ' ' ' ']\n",
      " [' ' ' ' ' ' ' ' ' ' ' ' ' ' ' ' ' ' ' ']\n",
      " [' ' ' ' ' ' ' ' ' ' ' ' ' ' ' ' ' ' ' ']\n",
      " [' ' ' ' ' ' ' ' ' ' ' ' ' ' ' ' ' ' ' ']\n",
      " [' ' ' ' ' ' ' ' ' ' ' ' ' ' ' ' ' ' ' ']\n",
      " [' ' ' ' ' ' ' ' ' ' ' ' ' ' ' ' ' ' ' ']\n",
      " [' ' ' ' ' ' ' ' ' ' ' ' ' ' ' ' ' ' ' ']]\n",
      "______________________________________________\n",
      "Tablero barcos rival\n",
      "[[' ' ' ' ' ' ' ' ' ' ' ' ' ' ' ' ' ' ' ']\n",
      " [' ' ' ' ' ' ' ' ' ' ' ' ' ' ' ' ' ' ' ']\n",
      " [' ' ' ' ' ' ' ' ' ' ' ' ' ' ' ' ' ' ' ']\n",
      " [' ' ' ' ' ' ' ' ' ' ' ' ' ' ' ' ' ' ' ']\n",
      " [' ' ' ' ' ' ' ' ' ' ' ' ' ' ' ' ' ' ' ']\n",
      " [' ' ' ' ' ' ' ' ' ' ' ' ' ' ' ' ' ' ' ']\n",
      " [' ' ' ' ' ' ' ' ' ' ' ' ' ' ' ' ' ' ' ']\n",
      " [' ' ' ' ' ' ' ' ' ' ' ' ' ' ' ' ' ' ' ']\n",
      " [' ' ' ' ' ' ' ' ' ' ' ' ' ' ' ' ' ' ' ']\n",
      " [' ' ' ' ' ' ' ' ' ' ' ' ' ' ' ' ' ' ' ']]\n",
      "______________________________________________\n"
     ]
    }
   ],
   "source": [
    "import numpy as np\n",
    "# con esto creamos una función que nos da la posib de crear todos \n",
    "# los tableros que queramos\n",
    "\n",
    "def tablero():\n",
    "    tablero = np.full((10,10), \" \")\n",
    "    return(tablero) # con esto creamos tablero\n",
    "\n",
    "tablero_barcos_jugador = tablero()\n",
    "tablero_barcos_rival = tablero()\n",
    "\n",
    "\n",
    "print(\"Tablero barcos Jugador\")\n",
    "print(tablero_barcos_jugador)\n",
    "print(\"______________________________________________\")\n",
    "\n",
    "print(\"Tablero barcos rival\")\n",
    "print(tablero_barcos_rival)\n",
    "print(\"______________________________________________\")\n"
   ]
  },
  {
   "cell_type": "code",
   "execution_count": 4,
   "metadata": {},
   "outputs": [],
   "source": [
    "barcos_jugador = ([(0,0), (0,1), (0,2)], [(7, 4), (6, 4)])"
   ]
  },
  {
   "cell_type": "code",
   "execution_count": null,
   "metadata": {},
   "outputs": [
    {
     "ename": "NameError",
     "evalue": "name 'lista' is not defined",
     "output_type": "error",
     "traceback": [
      "\u001b[31m---------------------------------------------------------------------------\u001b[39m",
      "\u001b[31mNameError\u001b[39m                                 Traceback (most recent call last)",
      "\u001b[36mCell\u001b[39m\u001b[36m \u001b[39m\u001b[32mIn[5]\u001b[39m\u001b[32m, line 2\u001b[39m\n\u001b[32m      1\u001b[39m \u001b[38;5;28;01mfor\u001b[39;00m barco \u001b[38;5;129;01min\u001b[39;00m tablero_barcos_jugador:\n\u001b[32m----> \u001b[39m\u001b[32m2\u001b[39m     \u001b[38;5;28mprint\u001b[39m(barco, \u001b[43mlista\u001b[49m)\n\u001b[32m      3\u001b[39m     \u001b[38;5;28;01mfor\u001b[39;00m posicion \u001b[38;5;129;01min\u001b[39;00m tablero_barcos_jugador:\n\u001b[32m      4\u001b[39m         \u001b[38;5;28mprint\u001b[39m(posicion)\n",
      "\u001b[31mNameError\u001b[39m: name 'lista' is not defined"
     ]
    }
   ],
   "source": [
    "'''def colocar_barco(lista):\n",
    "    for barco in tablero_barcos_jugador:\n",
    "        print(barco, lista)\n",
    "        for posicion in tablero_barcos_jugador:\n",
    "            print(posicion)\n",
    "            barco [posicion] = \"O\"\n",
    "            print(posicion)\n",
    "    return tablero\n",
    "        \n",
    " '''       \n"
   ]
  },
  {
   "cell_type": "code",
   "execution_count": null,
   "metadata": {},
   "outputs": [],
   "source": [
    "#Para poner los barcos en los tableros \n",
    "def colocar_barco(tablero, lista):\n",
    "    for barco in lista:\n",
    "        #Para acceder al barco\n",
    "        print(barco)\n",
    "        for posicion in barco:\n",
    "            #Para que me saque cada posicon de los barcos\n",
    "            print(posicion)\n",
    "            #Reemplazar los \" \" por \"\\\n",
    "            tablero[posicion] = \"0\"\n",
    "    return tablero"
   ]
  },
  {
   "cell_type": "code",
   "execution_count": null,
   "metadata": {},
   "outputs": [],
   "source": [
    "#Barcos aleaotrios\n",
    "def validar_posicion_aleatoria(tablero, inicio_fila, inicio_columna, eslora, direccion):\n",
    "    #Verifica si un barco cabe y no se superpone en las coordenadas generadas.\n",
    "    tamaño = tablero.shape[0]\n",
    "    coordenadas = []\n",
    "    for i in range(eslora):\n",
    "        # 1. Calcular la coordenada de la parte del barco\n",
    "        if direccion == 'H':  # Horizontal\n",
    "            fila, columna = inicio_fila, inicio_columna + i\n",
    "        else:  # Vertical\n",
    "            fila, columna = inicio_fila + i, inicio_columna\n",
    "        # 2. Comprobar límites\n",
    "        if not (0 <= fila < tamaño and 0 <= columna < tamaño):\n",
    "            return False, []\n",
    "        # 3. Comprobar superposición\n",
    "        if tablero[fila, columna] != \"_\":\n",
    "            return False, [] # La casilla no está vacía\n",
    "        coordenadas.append((fila, columna))\n",
    "    return coordenadas"
   ]
  },
  {
   "cell_type": "code",
   "execution_count": null,
   "metadata": {},
   "outputs": [],
   "source": [
    "def disparar(tablero, fila, columna):\n",
    "    if tablero[fila, columna] == \"0\":\n",
    "        tablero[fila, columna] = \"X\"\n",
    "        print(tablero)\n",
    "        print(\"Tocado\")\n",
    "    elif tablero[fila, columna] == \" \":\n",
    "        tablero[fila, columna] = \"A\"\n",
    "        print(tablero)\n",
    "        print(\"Agua\")\n",
    "    elif tablero[fila, columna] == \"A\":\n",
    "        return disparar(tablero, fila, columna)\n",
    "    else:\n",
    "        print(\"Esa poscion no existe\")\n",
    "    print(tablero)"
   ]
  },
  {
   "cell_type": "code",
   "execution_count": null,
   "metadata": {},
   "outputs": [],
   "source": [
    "#CABE NO CABE\n",
    "#TURNOS con while == True hasta que uno haya pisado todos los varcos == FALSE se acaba"
   ]
  }
 ],
 "metadata": {
  "kernelspec": {
   "display_name": "Python 3",
   "language": "python",
   "name": "python3"
  },
  "language_info": {
   "codemirror_mode": {
    "name": "ipython",
    "version": 3
   },
   "file_extension": ".py",
   "mimetype": "text/x-python",
   "name": "python",
   "nbconvert_exporter": "python",
   "pygments_lexer": "ipython3",
   "version": "3.12.10"
  },
  "orig_nbformat": 4
 },
 "nbformat": 4,
 "nbformat_minor": 2
}
